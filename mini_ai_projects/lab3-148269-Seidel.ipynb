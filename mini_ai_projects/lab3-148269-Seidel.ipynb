{
 "cells": [
  {
   "cell_type": "markdown",
   "metadata": {},
   "source": [
    "# Local search and constraint satisfaction problems\n",
    "\n",
    "During the previous classes we were concerned with finding a sequence of actions (a plan) to reach one of the goal states from a predefined initial state. In a sense, we were more interested in the *journey* rather than in the *destination* itself: our goal was to transform the initial state to the goal state, not to construct the goal state from scratch. Constraint satisfaction problems (CSP) are different from them: we are not interested in the journey, only in the destination. We are again in a situation where we can recognize a goal state, but we don't care how we get there, the only interesting aspect is finding a state that satisfies all specified constraints. Local search is also different from tree/graph search algorithms like A*: it assumes that all intermediate states are acceptable, but they differ in their quality and the goal is to find the best solution."
   ]
  },
  {
   "cell_type": "markdown",
   "metadata": {},
   "source": [
    "## Constraint satisfaction problem\n",
    "\n",
    "In the previous tasks the state was opaque: an algorithm could execute an action and transform a state to another state, but that was it. It could not depend in its search on the details of a state, because the state representation was different from problem to problem. In CSP this is no longer true: the state always consists of an assignment of values over some domains to variables. This enables an algorithm to interact with the state directly, not only through opaque actions. \n",
    "\n",
    "Allowed assignments are limited by constraints in the problem and broadly speaking they can be divided into three groups:\n",
    "\n",
    "* *Unary constraints* each concerning only a single variable (e.g., $x>0$)\n",
    "* *Binary constraints* relating two variables to each other (e.g., $x>y$)\n",
    "* *General constraints* concerning more than two variables at once\n",
    "\n",
    "In general, the shape of constraints is unrestricted and we are not limited to numeric domains and constraints in the form of inequalities. In principle, one could employ arbitrary boolean functions as constraints.\n",
    "\n",
    "The following class `CSP` is a very limited representation of such a problem capable only of handling:\n",
    "\n",
    "* unary constraints defined in terms of Python's operators `==`, `!=`, `<`, `<=`, `>`, `>=` and `in` such that the left-hand side of the operator is a variable and the right-hand side is a constant\n",
    "* binary constraints defined in terms of Python's operators `==`, `!=`, `<`, `<=`, `>` and `>=` such that both sides are variables.\n",
    "\n",
    "About its methods:\n",
    "\n",
    "* The constructor (`__init__`) requires a single argument: a domain shared by all the variables. This is not used by the class itself, but it is exposed as a field `domain` to be used by algorithms solving a CSP modelled this way.\n",
    "* `addUnaryConstraint` requires three arguments: \n",
    "    * `var` - a variable (a string representing ins name, but really, it could be any object);\n",
    "    * `op` - an operator (one of the following strings: `'=='`, `'!='`, `'<'`, `'<='`, `'>'`, `'>='` and `'in'`)\n",
    "    * `value` - an element of the domain for all the operators except `in` and a subset of the domain for the `in` operator\n",
    "* `addBinaryConstraint` also requires three arguments:\n",
    "    * `var1` - a variable, the left-hand side of the constraint\n",
    "    * `op` - an operator (one of the following strings: `'=='`, `'!='`, `'<'`, `'<='`, `'>'`, `'>='`)\n",
    "    * `var2` - a variable, the right-hand side of the constraint\n",
    "* `verify` gets a single argument: a (partial) solution in the form of a Python's dictionary mapping variables to values and returns a pair of numbers. The first it the number constraints satisfied by the provided solution, the second is the number of unsatisfied constraints."
   ]
  },
  {
   "cell_type": "code",
   "execution_count": 149,
   "metadata": {},
   "outputs": [],
   "source": [
    "class CSP:\n",
    "    def __init__(self, domain):\n",
    "        self.variables = set()\n",
    "        self.domain = domain\n",
    "        self.unary = []\n",
    "        self.binary = []\n",
    "    \n",
    "    def addUnaryConstraint(self, var, op, value):        \n",
    "        self.unary.append((var, op, value))        \n",
    "        self.variables.add(var)\n",
    "        \n",
    "    def addBinaryConstraint(self, var1, operator, var2):\n",
    "        c = (var1, operator, var2)\n",
    "        self.binary.append(c)\n",
    "        self.variables.add(var1)\n",
    "        self.variables.add(var2)        \n",
    "        \n",
    "    def _verify(self, left, op, right):\n",
    "        if op[0] == '=':\n",
    "            return left == right\n",
    "        if op == '!=':\n",
    "            return left != right\n",
    "        if op == '<':\n",
    "            return left < right\n",
    "        if op == '<=':\n",
    "            return left <= right\n",
    "        if op == '>':\n",
    "            return left > right\n",
    "        if op == '>=':\n",
    "            return left >= right\n",
    "        if op.lower() == 'in':\n",
    "            return left in right\n",
    "        \n",
    "    def verify(self, solution):\n",
    "        unary_hit = 0\n",
    "        unary_miss = 0\n",
    "        for var, op, value in self.unary:            \n",
    "            if var in solution and self._verify(solution[var], op, value):\n",
    "                unary_hit += 1\n",
    "            else:\n",
    "                unary_miss += 1\n",
    "                #print (var, op, value)\n",
    "        binary_hit = 0\n",
    "        binary_miss = 0\n",
    "        for var1, op, var2 in self.binary:\n",
    "            if var1 in solution and var2 in solution:\n",
    "                if self._verify(solution[var1], op, solution[var2]):\n",
    "                    binary_hit += 1\n",
    "                    continue            \n",
    "            binary_miss += 1\n",
    "            #print (var1, op, var2)\n",
    "        return unary_hit + binary_hit, unary_miss + binary_miss"
   ]
  },
  {
   "cell_type": "markdown",
   "metadata": {},
   "source": [
    "## Making Australia colorful again"
   ]
  },
  {
   "cell_type": "markdown",
   "metadata": {},
   "source": [
    "Lets model a map coloring problem. In particular, we'll color the following map of Australia. It can be simplified to a graph presented in the right-hand side of the picture below.\n",
    "\n",
    "![](aima-images/fig_6_1.png)"
   ]
  },
  {
   "cell_type": "markdown",
   "metadata": {},
   "source": [
    "We begin by creating a new problem in the variable `australia` over the domain consisting of three values: `'R'` statnding for the color red, `'G'` standing for green and `'B'` standing for blue. Of course the particular symbols used are not relevant."
   ]
  },
  {
   "cell_type": "code",
   "execution_count": 150,
   "metadata": {},
   "outputs": [],
   "source": [
    "australia = CSP({'R', 'G', 'B'})"
   ]
  },
  {
   "cell_type": "markdown",
   "metadata": {},
   "source": [
    "Any two teritories of Australia sharing a border should be colored using different colours. We thus define 7 binary constraints."
   ]
  },
  {
   "cell_type": "code",
   "execution_count": 151,
   "metadata": {},
   "outputs": [],
   "source": [
    "australia.addBinaryConstraint('WA', '!=', 'NT')\n",
    "australia.addBinaryConstraint('WA', '!=', 'SA')\n",
    "australia.addBinaryConstraint('NT', '!=', 'SA')\n",
    "australia.addBinaryConstraint('NT', '!=', 'Q')\n",
    "australia.addBinaryConstraint('SA', '!=', 'Q')\n",
    "australia.addBinaryConstraint('SA', '!=', 'NSW')\n",
    "australia.addBinaryConstraint('SA', '!=', 'V')"
   ]
  },
  {
   "cell_type": "markdown",
   "metadata": {},
   "source": [
    "Lets now verify a solution such that *Western Australia* is red and the rest is unspecified."
   ]
  },
  {
   "cell_type": "code",
   "execution_count": 152,
   "metadata": {},
   "outputs": [
    {
     "data": {
      "text/plain": [
       "(0, 7)"
      ]
     },
     "execution_count": 152,
     "metadata": {},
     "output_type": "execute_result"
    }
   ],
   "source": [
    "australia.verify({'WA': 'R'})"
   ]
  },
  {
   "cell_type": "markdown",
   "metadata": {},
   "source": [
    "As expected it didn't work: there are still 7 unfulfiled constraints. So lets extend the solution."
   ]
  },
  {
   "cell_type": "code",
   "execution_count": 153,
   "metadata": {},
   "outputs": [
    {
     "data": {
      "text/plain": [
       "(7, 0)"
      ]
     },
     "execution_count": 153,
     "metadata": {},
     "output_type": "execute_result"
    }
   ],
   "source": [
    "australia.verify({'WA': 'R', 'Q': 'R', 'V': 'R', 'NT': 'B', 'NSW': 'B', 'SA': 'G'})"
   ]
  },
  {
   "cell_type": "markdown",
   "metadata": {},
   "source": [
    "Splendid, now everything works as it should: all 7 constraints are satisfied! The problem is, Tasmania still has no color assigned. To address this, we add unary constraints requiring that each of the 7 teritories has a color assigned."
   ]
  },
  {
   "cell_type": "code",
   "execution_count": 154,
   "metadata": {},
   "outputs": [],
   "source": [
    "for teritory in ['WA', 'SA', 'Q', 'NT', 'NSW', 'V', 'T']:\n",
    "    australia.addUnaryConstraint(teritory, 'in', {'R', 'G', 'B'})"
   ]
  },
  {
   "cell_type": "markdown",
   "metadata": {},
   "source": [
    "Lets verify the incomplete solution again:"
   ]
  },
  {
   "cell_type": "code",
   "execution_count": 155,
   "metadata": {},
   "outputs": [
    {
     "data": {
      "text/plain": [
       "(13, 1)"
      ]
     },
     "execution_count": 155,
     "metadata": {},
     "output_type": "execute_result"
    }
   ],
   "source": [
    "australia.verify({'WA': 'R', 'Q': 'R', 'V': 'R', 'NT': 'B', 'NSW': 'B', 'SA': 'G'})"
   ]
  },
  {
   "cell_type": "markdown",
   "metadata": {},
   "source": [
    "Now one constraint remains unsatisfied. Lets extend the solution."
   ]
  },
  {
   "cell_type": "code",
   "execution_count": 156,
   "metadata": {},
   "outputs": [
    {
     "data": {
      "text/plain": [
       "(14, 0)"
      ]
     },
     "execution_count": 156,
     "metadata": {},
     "output_type": "execute_result"
    }
   ],
   "source": [
    "australia.verify({'WA': 'R', 'Q': 'R', 'V': 'R', 'NT': 'B', 'NSW': 'B', 'SA': 'G', 'T': 'B'})"
   ]
  },
  {
   "cell_type": "markdown",
   "metadata": {},
   "source": [
    "## Task 1: CSP as search\n",
    "\n",
    "Complete the following class `CSSearchProblem` casting a CSP (given in the field `self.csp`) as a generic search problem. It is very similar to the tasks you solved during the previous classes:\n",
    "\n",
    "* `initial_state` should return an intial state of the search (e.g., a state such that no variable has any value assigned though you may consider other possibilities, such as filling it with a random assignment instead)\n",
    "* `available_actions` should return a list of avilable actions in the given state, each action should correspond to assigning a value to a variable\n",
    "* `do_action` generates a new state by adding/changing the assignment specified in the given action\n",
    "* `value` is about the only new thing: this should be some measure of the quality of the given state (solution), the higher value the better.\n",
    "\n",
    "Please bear in mind the following: **This is NOT how you should solve CSP problems in real life.** You SHOULD use an off-the-shelf solver or at the very least implement specialized algorithms for CSP, which were discussed in details during the lecture. It is, nevertheless, an interesting exercise to cast one kind of a problem as another kind and see what emerges. Sometimes such an exercises can lead to a genuinely valuable solution."
   ]
  },
  {
   "cell_type": "code",
   "execution_count": 157,
   "metadata": {},
   "outputs": [],
   "source": [
    "import copy\n",
    "class CSSearchProblem:\n",
    "    def __init__(self, csp):\n",
    "        self.csp = csp\n",
    "    \n",
    "    @property\n",
    "    def initial_state(self):\n",
    "        init_state = {}\n",
    "        for variable in self.csp.variables:\n",
    "            init_state[variable] = None\n",
    "        return init_state\n",
    "        \n",
    "    def available_actions(self, state):\n",
    "        actions = []\n",
    "        for variable in self.csp.variables:\n",
    "            for color in self.csp.domain:\n",
    "                actions.append((variable, color))\n",
    "        return actions\n",
    "    \n",
    "    def do_action(self, state, action):\n",
    "        new_state = copy.deepcopy(state)\n",
    "        variable, color = action\n",
    "        new_state[variable] = color\n",
    "        return new_state\n",
    "    \n",
    "    def value(self, state) -> float:\n",
    "        return self.csp.verify(state)[0]"
   ]
  },
  {
   "cell_type": "markdown",
   "metadata": {},
   "source": [
    "## Task 2: Implement hill climbing to solve search problems\n",
    "\n",
    "Complete the following cell of code with an implemention of the hill climbing algorithm.\n",
    "The algorithm starts in the initial state of the given search problem `problem` and loops forever.\n",
    "During each repetition of the loop it \"looks around\" and tests all the states achievable through actions available in the current state.\n",
    "If none of them is better than the current state (i.e., the algorithm reached a peak or a plateau according to the `value` function), it breaks the loop and returns the reached state.\n",
    "Otherwise, it goes to the best of these neighbouring states and computes the next repetition of the loop."
   ]
  },
  {
   "cell_type": "code",
   "execution_count": 158,
   "metadata": {},
   "outputs": [],
   "source": [
    "def hill_climbing(problem: CSSearchProblem):\n",
    "    state = problem.initial_state\n",
    "    value = problem.value(state)\n",
    "    while True:\n",
    "        better = False\n",
    "        for action in problem.available_actions(state):\n",
    "            temp_state = problem.do_action(state, action)\n",
    "            if problem.value(temp_state) > value:\n",
    "                better = True\n",
    "                value = problem.value(temp_state)\n",
    "                state = temp_state\n",
    "        if better != True:\n",
    "            break\n",
    "    return state\n",
    "            "
   ]
  },
  {
   "cell_type": "markdown",
   "metadata": {},
   "source": [
    "Lets test your implementation by solving the problem of coloring Australia!"
   ]
  },
  {
   "cell_type": "code",
   "execution_count": 159,
   "metadata": {},
   "outputs": [
    {
     "data": {
      "text/plain": [
       "{'SA': 'R', 'WA': 'B', 'Q': 'B', 'T': 'R', 'V': 'B', 'NSW': 'B', 'NT': 'G'}"
      ]
     },
     "execution_count": 159,
     "metadata": {},
     "output_type": "execute_result"
    }
   ],
   "source": [
    "solution = hill_climbing(CSSearchProblem(australia))\n",
    "solution"
   ]
  },
  {
   "cell_type": "markdown",
   "metadata": {},
   "source": [
    "Is the obtained solution correct and complete? (It should be and the following assertion should not fail.)"
   ]
  },
  {
   "cell_type": "code",
   "execution_count": 160,
   "metadata": {},
   "outputs": [],
   "source": [
    "assert australia.verify(solution) == (14, 0)"
   ]
  },
  {
   "cell_type": "markdown",
   "metadata": {},
   "source": [
    "## Sudoku!\n",
    "\n",
    "Coloring Australia is really a bit boring. Lets deal with something more exciting: SUDOKU! I assume you know the rules, but if you don't, go look them up, spend some time solving a few puzzles and familiarize yourself with the puzzle.\n",
    "The cell below defines a string `puzzle` which represents a Sudoku puzzle from the picture below. A digit in `puzzle` corresponds to a digit in the puzzle, while an underscore `_` corresponds to a blank cell in the puzzle. For your convenience there's also variable `solution` containing the correct solution to this particular puzzle.\n",
    "\n",
    "![](aima-images/fig_6_4.png)"
   ]
  },
  {
   "cell_type": "code",
   "execution_count": 161,
   "metadata": {
    "scrolled": true
   },
   "outputs": [],
   "source": [
    "puzzle = '''\n",
    "__3_2_6__\n",
    "9__3_5__1\n",
    "__18_64__\n",
    "__81_29__\n",
    "7_______8\n",
    "__67_82__\n",
    "__26_95__\n",
    "8__2_3__9\n",
    "__5_1_3__\n",
    "'''"
   ]
  },
  {
   "cell_type": "code",
   "execution_count": 162,
   "metadata": {},
   "outputs": [],
   "source": [
    "solution = '''\n",
    "483921657\n",
    "967345821\n",
    "251876493\n",
    "548132976\n",
    "729564138\n",
    "136798245\n",
    "372689514\n",
    "814253769\n",
    "695417382\n",
    "'''"
   ]
  },
  {
   "cell_type": "markdown",
   "metadata": {},
   "source": [
    "### Task 3: Sudoku as CSP\n",
    "\n",
    "Using the string `puzzle` defined above write in the cell below code that will add all the necessary constraints to the CSP represented by the variable `sudoku`. "
   ]
  },
  {
   "cell_type": "code",
   "execution_count": 163,
   "metadata": {},
   "outputs": [],
   "source": [
    "puzzle = '''\n",
    "__3_2_6__\n",
    "9__3_5__1\n",
    "__18_64__\n",
    "__81_29__\n",
    "7_______8\n",
    "__67_82__\n",
    "__26_95__\n",
    "8__2_3__9\n",
    "__5_1_3__\n",
    "'''\n",
    "\n",
    "\n",
    "puzzle = puzzle[1:]\n",
    "sudoku = CSP({'1','2','3','4','5','6','7','8','9'})\n",
    "for i in range(9):\n",
    "    for j in range(9):\n",
    "        if puzzle[i*10+j] == '_':\n",
    "            sudoku.addUnaryConstraint((i,j), 'in', {'1','2','3','4','5','6','7','8','9'})\n",
    "            #horizontal\n",
    "            for j1 in range(9):\n",
    "                if j1 == j:\n",
    "                    continue\n",
    "                #print(i,j, '    ', i, j1)\n",
    "                if puzzle[i*10+j1] == '_' and j1 > j:\n",
    "                    \n",
    "                    sudoku.addBinaryConstraint((i,j), \"!=\", (i,j1))\n",
    "                elif  puzzle[i*10+j1] != '_': \n",
    "                    sudoku.addUnaryConstraint((i,j), \"!=\", puzzle[i*10+j1])\n",
    "                    \n",
    "            #vertical\n",
    "            for i1 in range(9):\n",
    "                if i1 == i:\n",
    "                    continue\n",
    "                #print(i,j, '    ', i, j1)\n",
    "                if puzzle[i1*10+j] == '_' and i1 > i:\n",
    "                    sudoku.addBinaryConstraint((i,j), \"!=\", (i1,j))\n",
    "                elif  puzzle[i1*10+j] != '_': \n",
    "                    sudoku.addUnaryConstraint((i,j), \"!=\", puzzle[i1*10+j])\n",
    "\n",
    "for i in range(3):\n",
    "    for j in range(3):\n",
    "        ii = [3*i, 3*i+1, 3*i+2]\n",
    "        jj = [3*j, 3*j+1, 3*j+2]\n",
    "        #print(ii)\n",
    "        #print(jj)\n",
    "        for i1 in ii:\n",
    "            for j1 in jj:\n",
    "                if puzzle[i1*10 + j1] != '_':\n",
    "                    continue\n",
    "                for i2 in ii:\n",
    "                    for j2 in jj:\n",
    "                        if i1 == i2 or j1 == j2 or i1 > i2:\n",
    "                            continue\n",
    "                        #print(i1, j1, '  ', i2, j2)\n",
    "                        if puzzle[i2*10+j2] == '_':\n",
    "                            sudoku.addBinaryConstraint((i1,j1), \"!=\", (i2,j2))\n",
    "                        \n",
    "                        else : \n",
    "                            sudoku.addUnaryConstraint((i1,j1), \"!=\", puzzle[i2*10+j2])   \n",
    "    \n",
    "                \n",
    "        \n",
    "#print(sudoku.binary)               \n",
    "#print(sudoku.unary) \n",
    "\n",
    "        "
   ]
  },
  {
   "cell_type": "code",
   "execution_count": 164,
   "metadata": {},
   "outputs": [
    {
     "name": "stdout",
     "output_type": "stream",
     "text": [
      "379\n",
      "306\n"
     ]
    }
   ],
   "source": [
    "print(len(sudoku.unary))\n",
    "print(len(sudoku.binary))"
   ]
  },
  {
   "cell_type": "markdown",
   "metadata": {},
   "source": [
    "## Task 4: Solving sudoku by hill climbing\n",
    "\n",
    "Complete the cell below by using the `CSSearchProblem` class you defined above and hill climbing to find a solution to the sudoku puzzle. Answer the questions below."
   ]
  },
  {
   "cell_type": "code",
   "execution_count": 165,
   "metadata": {},
   "outputs": [
    {
     "data": {
      "text/plain": [
       "{(3, 4): '5',\n",
       " (4, 3): '9',\n",
       " (3, 1): '3',\n",
       " (3, 7): '6',\n",
       " (5, 4): '3',\n",
       " (4, 6): '1',\n",
       " (5, 1): '5',\n",
       " (8, 0): '6',\n",
       " (5, 7): '9',\n",
       " (8, 3): '4',\n",
       " (0, 5): '1',\n",
       " (1, 6): '7',\n",
       " (0, 8): '5',\n",
       " (2, 8): '3',\n",
       " (7, 4): '6',\n",
       " (7, 1): '1',\n",
       " (7, 7): '5',\n",
       " (6, 8): '7',\n",
       " (4, 2): '4',\n",
       " (3, 0): '7',\n",
       " (4, 5): '6',\n",
       " (5, 0): '1',\n",
       " (8, 5): '7',\n",
       " (0, 1): '7',\n",
       " (0, 7): '8',\n",
       " (8, 8): '2',\n",
       " (1, 2): '8',\n",
       " (2, 4): '7',\n",
       " (2, 1): '9',\n",
       " (2, 7): '2',\n",
       " (6, 1): '4',\n",
       " (6, 4): '8',\n",
       " (6, 7): '1',\n",
       " (7, 6): '8',\n",
       " (4, 1): '2',\n",
       " (4, 7): '3',\n",
       " (4, 4): '5',\n",
       " (3, 8): '4',\n",
       " (0, 0): '4',\n",
       " (8, 1): '8',\n",
       " (8, 7): '9',\n",
       " (1, 1): '6',\n",
       " (0, 3): '9',\n",
       " (2, 0): '5',\n",
       " (5, 8): None,\n",
       " (1, 4): '4',\n",
       " (1, 7): None,\n",
       " (7, 2): '7',\n",
       " (6, 0): '3'}"
      ]
     },
     "execution_count": 165,
     "metadata": {},
     "output_type": "execute_result"
    }
   ],
   "source": [
    "solution = hill_climbing(CSSearchProblem(sudoku))\n",
    "solution"
   ]
  },
  {
   "cell_type": "code",
   "execution_count": 166,
   "metadata": {},
   "outputs": [
    {
     "name": "stdout",
     "output_type": "stream",
     "text": [
      "4 7 3 9 2 1 6 8 5\n",
      "9 6 8 3 4 5 7 None 1\n",
      "5 9 1 8 7 6 4 2 3\n",
      "7 3 8 1 5 2 9 6 4\n",
      "7 2 4 9 5 6 1 3 8\n",
      "1 5 6 7 3 8 2 9 None\n",
      "3 4 2 6 8 9 5 1 7\n",
      "8 1 7 2 6 3 8 5 9\n",
      "6 8 5 4 1 7 3 9 2\n"
     ]
    }
   ],
   "source": [
    "matrix = [[ None for x in range(9)] for i in range (9)]\n",
    "for digit in solution:\n",
    "    i, j = digit\n",
    "    what = solution[digit]\n",
    "    matrix[i][j] = what\n",
    "\n",
    "for i in range(9):\n",
    "    for j in range(9):\n",
    "        if puzzle[i*10+j] != '_':\n",
    "            matrix[i][j] = puzzle[i*10+j]\n",
    "    \n",
    "for i in matrix:\n",
    "    print(*i)"
   ]
  },
  {
   "cell_type": "code",
   "execution_count": 167,
   "metadata": {},
   "outputs": [
    {
     "data": {
      "text/plain": [
       "(676, 9)"
      ]
     },
     "execution_count": 167,
     "metadata": {},
     "output_type": "execute_result"
    }
   ],
   "source": [
    "sudoku.verify(solution)"
   ]
  },
  {
   "cell_type": "markdown",
   "metadata": {},
   "source": [
    "**Is the solution correct and complete or does it violate some constraints? If it does, which constraints are violated? Would a human solving this puzzle make that kind of mistakes?**"
   ]
  },
  {
   "cell_type": "markdown",
   "metadata": {},
   "source": [
    "The solution isn't correct and complete and violates some of the constraints. For example there are two empty fields or two '7' next to each other. Human definitely wouldn't make such mistakes."
   ]
  },
  {
   "cell_type": "markdown",
   "metadata": {},
   "source": [
    "## Genetic algorithms\n",
    "\n",
    "Another popular search/optimization approaches are genetic/evolutionary algorithms.\n",
    "The basic notion in a genetic algorithm is an *individual*, which encodes a solution to the problem at hand.\n",
    "The details of the encoding may vary greatly, but the most common approach is to construct a sequence of symbols (bits, possibly more complex symbols) of a constant length.\n",
    "Continuing with the biological analogies, the encoding represents a genotype, whereas the encoded solution represents a phenotype.\n",
    "It is rather important to ensure that most (if not all) such sequences (genotypes) represent valid solutions (phenotypes).\n",
    "\n",
    "Each of the individuals is assigned some numeric value called *fitness*, which is a gain-type measure (i.e., the higher the better) and describes how well the individual copes in the given environment. It is, again, an analogy to the process of evolution.\n",
    "\n",
    "Finally, two operators are usually defined:\n",
    "\n",
    "* Mutation, which randomly changes a single gene in an individual.\n",
    "* Reproduction, which given two parents combines their genetic material to create a child. If the individuals are represented as sequences, the most common approach is to find a random cross-over point and glue the part before the cross-over point from one parent with the part after the cross-over point from the other parent.\n",
    "\n",
    "A group of individuals forms a *population* and the genetic algorithm generates new populations of the same size from the old ones by using the two described operators.\n",
    "Some form of the *survival of the fittest* is implemented, e.g., by making a probability of parenting a child by an individual proportional to its fitness, or by creating more children than the desired population size and then removing these with the lowest fitness."
   ]
  },
  {
   "cell_type": "markdown",
   "metadata": {},
   "source": [
    "The following class `GeneticOperators` is an abstraction necessary to decouple representation from the algorithm itself.\n",
    "\n",
    "* `random_individual` is responsible for constructing randomly a new individual\n",
    "* `mutate` given an `individual` is supposed to perform a mutation and return a new, mutated individual\n",
    "* `reproduce` given two parents `parent1` and `parent2` should return a child of theirs\n",
    "* `fitness` should return a float number representing the fitness of the given `individual`"
   ]
  },
  {
   "cell_type": "code",
   "execution_count": null,
   "metadata": {},
   "outputs": [],
   "source": [
    "class GeneticOperators:\n",
    "    def random_individual(self):\n",
    "        ...\n",
    "        \n",
    "    def mutate(self, individual):\n",
    "        ...\n",
    "        return mutated_individual\n",
    "    \n",
    "    def reproduce(self, parent1, parent2):\n",
    "        ...\n",
    "        return child\n",
    "    \n",
    "    def fitness(self, individual) -> float:\n",
    "        ...\n",
    "        return result"
   ]
  },
  {
   "cell_type": "markdown",
   "metadata": {},
   "source": [
    "### Taks 5: Wrapping CSP into genetic operators\n",
    "\n",
    "Complete the following class `CSPGO`, providing necessary operators to cast a CSP problem representd as an object of the class `CSP` to a representation suitable for a genetic algorithm.\n",
    "Apart from the four functions from `GeneticOperators`, implement a function `phenotype` which, given an individual, returns a solution suitable for passing to the `verify` method of the `CSP` object."
   ]
  },
  {
   "cell_type": "code",
   "execution_count": null,
   "metadata": {},
   "outputs": [],
   "source": [
    "class CSPGO(GeneticOperators):\n",
    "    def __init__(self, csp):\n",
    "        self.csp = csp\n",
    "        # add here any initialization code you may need\n",
    "        \n",
    "    def random_individual(self):\n",
    "        ...\n",
    "        \n",
    "    def mutate(self, individual):\n",
    "        ...\n",
    "        return mutated_individual\n",
    "    \n",
    "    def reproduce(self, parent1, parent2):\n",
    "        ...\n",
    "        return child\n",
    "    \n",
    "    def fitness(self, individual) -> float:\n",
    "        ...\n",
    "        return result\n",
    "    \n",
    "    def phenotype(self, individual):\n",
    "        ...\n",
    "        return csp_solution"
   ]
  },
  {
   "cell_type": "markdown",
   "metadata": {},
   "source": [
    "If your solution is correct a random individual should have a corresponding phenotype that can be then passed to the CSP."
   ]
  },
  {
   "cell_type": "code",
   "execution_count": null,
   "metadata": {},
   "outputs": [],
   "source": [
    "australiaGO = CSPGO(australia)\n",
    "australia.verify(australiaGO.phenotype(australiaGO.random_individual()))"
   ]
  },
  {
   "cell_type": "markdown",
   "metadata": {},
   "source": [
    "So should a mutated random individual"
   ]
  },
  {
   "cell_type": "code",
   "execution_count": null,
   "metadata": {},
   "outputs": [],
   "source": [
    "australia.verify(australiaGO.phenotype(australiaGO.mutate(australiaGO.random_individual())))"
   ]
  },
  {
   "cell_type": "markdown",
   "metadata": {},
   "source": [
    "And a child of two random individuals"
   ]
  },
  {
   "cell_type": "code",
   "execution_count": null,
   "metadata": {},
   "outputs": [],
   "source": [
    "parent1 = australiaGO.random_individual()\n",
    "parent2 = australiaGO.random_individual()\n",
    "child = australiaGO.reproduce(parent1, parent2)\n",
    "\n",
    "australia.verify(australiaGO.phenotype(child))"
   ]
  },
  {
   "cell_type": "markdown",
   "metadata": {},
   "source": [
    "Of course it is perfectly acceptable that within these solutions some (or all) the constraints are unsatisfied."
   ]
  },
  {
   "cell_type": "markdown",
   "metadata": {},
   "source": [
    "## Task 6: Implement a genetic algorithm\n",
    "\n",
    "A genetic algorithm works as follows:\n",
    "\n",
    "1. Generate a random population of a given size `n`\n",
    "2. Repeat the following `g` times:\n",
    "    1. Repeat `n` times:\n",
    "       1. Select at random two individuals from the population. The probability of selection should be proportional to their fitness (so individuals with higher fitness are selected more often).\n",
    "       2. Create a child of these two individuals\n",
    "       3. With a small probability `p` mutate the child\n",
    "       4. Add the child to a new population\n",
    "    2. Replace the old population with the new population\n",
    "3. Return the best individual encountered in any of the `g` populations generated in the previous step"
   ]
  },
  {
   "cell_type": "markdown",
   "metadata": {},
   "source": [
    "The last task! Complete the following function `ga` with an implementation of a genetic algorithm, given the following parameters:\n",
    "\n",
    "* `operators` An object of the type `GeneticOperators`\n",
    "* `g` The number of populations to generate\n",
    "* `n` The size of a single population\n",
    "* `p` The probability of mutation"
   ]
  },
  {
   "cell_type": "markdown",
   "metadata": {},
   "source": [
    "**Hint**: sampling proportionally to the fitness is simple. For example, you can apply the following naive method (but you could do it faster using binary search).\n",
    "1. Sum all the fitnesses.\n",
    "2. Generate a random float from the range 0 to 1.\n",
    "3. Iterate over individuals summing their fitnesses again. The moment the sum divided by total exceeds the random float, you found your random individual."
   ]
  },
  {
   "cell_type": "code",
   "execution_count": null,
   "metadata": {},
   "outputs": [],
   "source": [
    "def ga(operators: GeneticOperators, n: int, g: int, p: float):\n",
    "    ..."
   ]
  },
  {
   "cell_type": "markdown",
   "metadata": {},
   "source": [
    "Lets test it on the considered CSPs."
   ]
  },
  {
   "cell_type": "code",
   "execution_count": null,
   "metadata": {},
   "outputs": [],
   "source": [
    "individual = ga(australiaGO, 100, 10, 0.1)\n",
    "australia.verify(australiaGO.phenotype(individual))"
   ]
  },
  {
   "cell_type": "code",
   "execution_count": null,
   "metadata": {
    "scrolled": true
   },
   "outputs": [],
   "source": [
    "sudokuGO = CSPGO(sudoku)\n",
    "individual = ga(sudokuGO, 100, 10, 0.1)\n",
    "sudoku.verify(sudokuGO.phenotype(individual))"
   ]
  },
  {
   "cell_type": "code",
   "execution_count": null,
   "metadata": {},
   "outputs": [],
   "source": [
    "individual = ga(sudokuGO, 500, 100, 0.2)\n",
    "sudoku.verify(sudokuGO.phenotype(individual))"
   ]
  },
  {
   "cell_type": "markdown",
   "metadata": {},
   "source": []
  }
 ],
 "metadata": {
  "kernelspec": {
   "display_name": "Python 3",
   "language": "python",
   "name": "python3"
  },
  "language_info": {
   "codemirror_mode": {
    "name": "ipython",
    "version": 3
   },
   "file_extension": ".py",
   "mimetype": "text/x-python",
   "name": "python",
   "nbconvert_exporter": "python",
   "pygments_lexer": "ipython3",
   "version": "3.8.8"
  }
 },
 "nbformat": 4,
 "nbformat_minor": 4
}
