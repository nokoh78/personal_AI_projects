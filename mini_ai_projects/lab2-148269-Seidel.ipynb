{
 "cells": [
  {
   "cell_type": "markdown",
   "metadata": {},
   "source": [
    "# Informed search - the A* algorithm"
   ]
  },
  {
   "cell_type": "markdown",
   "metadata": {},
   "source": [
    "Depth-first search and breadth-first search considered in the previous lesson are completely *blind* algorithms: they're only concerned whether the currently considered state is a goal state or not. They're unable to distinguish whether a state is easy or hard to reach, or whether it is near or far of the goal. This makes them very inefficient search algorithms. To allievate the issue, we introduce informed search algorithms. The information is given to an algorithm in two ways:\n",
    "\n",
    "1. By using an *action cost* function $c(s,a)$, which, given a state $s$ and an action $a$ available in this state, returns its cost as a non-negative number.\n",
    "2. By using a *heuristic* $h(s)$, which, given a state, estimates the lowest cost to reach a goal state from the given state.\n",
    "\n",
    "Given a sequence of actions $a_1, \\ldots, a_n$ and an initial state $s_1$, we can express the *total cost* of reaching the state $s_{n+1}$ by executing the sequence as:\n",
    "$$ c(s_1, a_1, \\ldots, a_{n-1}) = \\sum_{i=1}^n c(s_i, a_i) $$\n",
    "and the *expected cost* of the solution as the sum of the total cost and the estimate cost of reaching the goal from the state $s_{n+1}$\n",
    "$$ f(s_1, a_1, \\ldots, a_n) = c(s_1, a_1, \\ldots, a_n) + h(s_{n+1}) $$\n",
    "\n",
    "The heuristic function is a bit tricky, because we want it to have two properties:\n",
    "* *Admissibility*: It must never *overestimate* the true cost of reaching the goal. \n",
    "* *Consistency*: Let $s$ be a state such that $a$ is an available action in this state and $s'$ is the state reached by executing this action. The heuristic should fulfil triangle inequality, that is, the estimated cost to reach the goal from $s$ should be no greater than the cost of executing the action $a$ + the estimated cost of reaching the goal from the new state.\n",
    "$$ h(s) \\leq c(s, a) + h(s') $$\n",
    "\n",
    "One can prove that admissibility follows from consistency, but consistency is important only if there are multiple paths to reach the same state (i.e., we are searching in a graph, not in a tree). Otherwise, admissability is sufficient."
   ]
  },
  {
   "cell_type": "markdown",
   "metadata": {},
   "source": [
    "Lets extend the class `Problem` from the previous lesson with two new functions `action_cost` and `heuristic`, which correspond to the functions $c(s,a)$ and $h(s)$ described above."
   ]
  },
  {
   "cell_type": "code",
   "execution_count": 12,
   "metadata": {},
   "outputs": [],
   "source": [
    "class Problem:\n",
    "    @property\n",
    "    def initial_state(self):\n",
    "        ...\n",
    "        \n",
    "    def available_actions(self, state):\n",
    "        ...        \n",
    "        \n",
    "    def do_action(self, state, action):\n",
    "        ...\n",
    "        return new_state\n",
    "    \n",
    "    def is_goal(self, state) -> bool:\n",
    "        ...\n",
    "        \n",
    "    def action_cost(self, state, action) -> float:\n",
    "        ...\n",
    "        \n",
    "    def heuristic(self, state) -> float:\n",
    "        ..."
   ]
  },
  {
   "cell_type": "markdown",
   "metadata": {},
   "source": [
    "To make a concrete example, lets revisit the vacuum world. \n",
    "\n",
    "![](aima-images/fig2_2.png)\n",
    "\n",
    "Below, we assume a very simple model:\n",
    "* Any action costs 1. This corresponds to searching for the shortest plan.\n",
    "* The heuristic estimation is the number of fields which are still dirty. \n",
    "\n",
    "\n",
    "Lets consider the properties of the heuristic:\n",
    "* Is is admissible? The heuristic value is equal to the number of 'Suck' actions that are yet to be executed and ignores the spatial aspect (i.e., moving between the rooms), thus never overestimating.\n",
    "* Is it consistent? As a consequence of a single action the heuristic value can decrease by at most 1 (if the action happens to be 'Suck' and the room is dirty). The cost of any action is 1, so rewriting the triangle inequality we arrive at:\n",
    "$$ h(s) \\leq c(s, a) + h(s') = \\begin{cases} 1 + (h(s)-1) & a=\\text{'Suck' and the room was dirty} \\\\ 1 + h(s) & \\text{otherwise} \\end{cases} $$\n",
    "* Is it the best we could have? By no means! We could include the spatial aspect."
   ]
  },
  {
   "cell_type": "code",
   "execution_count": 13,
   "metadata": {},
   "outputs": [],
   "source": [
    "class VacuumProblem(Problem):\n",
    "    @property\n",
    "    def initial_state(self):\n",
    "        return (0, (True, True))\n",
    "    \n",
    "    def available_actions(self, state):\n",
    "        return [\"Left\", \"Suck\", \"Right\"]\n",
    "        \n",
    "    def do_action(self, state, action):\n",
    "        robot, dirty = state\n",
    "        if action == \"Left\":\n",
    "            return (max(robot-1, 0), dirty)\n",
    "        elif action == \"Suck\":\n",
    "            new_dirty = list(dirty)\n",
    "            new_dirty[robot] = False\n",
    "            return (robot, tuple(new_dirty))\n",
    "        elif action == \"Right\":\n",
    "            return (min(robot+1, len(dirty)-1), dirty)        \n",
    "        raise Exception('Invalid action')\n",
    "    \n",
    "    def is_goal(self, state) -> bool:\n",
    "        return not any(state[1])\n",
    "    \n",
    "    def action_cost(self, state, action):\n",
    "        return 1\n",
    "    \n",
    "    def heuristic(self, state):\n",
    "        return sum(state[1])"
   ]
  },
  {
   "cell_type": "code",
   "execution_count": null,
   "metadata": {},
   "outputs": [],
   "source": []
  },
  {
   "cell_type": "markdown",
   "metadata": {},
   "source": [
    "## Task 1: Implement the A* algorithm\n",
    "\n",
    "To implement the A* algorithm you must have a priority queue. Luckily, Python comes with one, so you don't need to implement it by yourself. Then, the algorithm is very simple: \n",
    "1. Start with a queue containing a single item - the initial state\n",
    "2. Repeat until the queue is not empty:\n",
    "  1. Pick an item with the lowest expected cost\n",
    "  2. If this is the goal, return the sequence of actions necessary to reach this state\n",
    "  3. Otherwise, for each available action, create a new entry in the queue corresponding to the state reached after executing the action.\n",
    "  \n",
    "Guard the algorithm against infinite loops: if you already visited a state, you don't need to visit it again (if your heuristic is consistent).\n",
    "\n",
    "In the cell below implement the algorithm in a similar manner as the BFS and DFS in the previous lesson: the sole argument is an object of the class Problem and the function should return a list of actions to achieve a goal state from the initial state.\n",
    "If it is impossible to reach the goal, return `None`.\n",
    "Count the number of states visited during the search and print in out before returning from the function, it will be useful later on to compare different heuristics."
   ]
  },
  {
   "cell_type": "code",
   "execution_count": 14,
   "metadata": {},
   "outputs": [],
   "source": [
    "def astar(problem: Problem):\n",
    "    import heapq\n",
    "    q = []\n",
    "    plan = []\n",
    "    init = problem.initial_state\n",
    "    heapq.heappush(q, (problem.heuristic(init) , 0 , init, plan ))\n",
    "    visited = set()\n",
    "    how_many = 0\n",
    "    the_fastest_route = {}\n",
    "    \n",
    "    while q:\n",
    "        \n",
    "        \n",
    "        current = heapq.heappop(q)\n",
    "        heuristic, from_start, state, plan = current\n",
    "        #print(current)\n",
    "        if (problem.is_goal(state)):\n",
    "            print(how_many)\n",
    "            return plan\n",
    "        \n",
    "        if str(state) in visited: \n",
    "            if len(plan) <  len(the_fastest_route[str(state)]): #zamiast len(plan) to from_start\n",
    "                the_fastest_route[str(state)] = plan\n",
    "            else :\n",
    "                continue\n",
    "        \n",
    "        else :\n",
    "            visited.add(str(state)) #do setow mozna dodawac tuple, nie mozna list \n",
    "            the_fastest_route[str(state)] = plan\n",
    "        \n",
    "        \n",
    "        how_many +=1\n",
    "        for i in problem.available_actions(state):\n",
    "            #print(i)\n",
    "            next_state = problem.do_action(state, i)\n",
    "            cost = problem.heuristic(next_state) + from_start + problem.action_cost(state, i)\n",
    "            #print(cost)\n",
    "            heapq.heappush(q, (cost, from_start + problem.action_cost(state, i), next_state, plan + [i]))\n",
    "        \n",
    "        \n",
    "    else : print(\"can't reach the goal state\")\n"
   ]
  },
  {
   "cell_type": "code",
   "execution_count": null,
   "metadata": {},
   "outputs": [],
   "source": []
  },
  {
   "cell_type": "markdown",
   "metadata": {},
   "source": [
    "Now lets test your code in the vacuum world!"
   ]
  },
  {
   "cell_type": "code",
   "execution_count": 15,
   "metadata": {},
   "outputs": [
    {
     "name": "stdout",
     "output_type": "stream",
     "text": [
      "5\n"
     ]
    },
    {
     "data": {
      "text/plain": [
       "['Suck', 'Right', 'Suck']"
      ]
     },
     "execution_count": 15,
     "metadata": {},
     "output_type": "execute_result"
    }
   ],
   "source": [
    "astar(VacuumProblem())"
   ]
  },
  {
   "cell_type": "markdown",
   "metadata": {},
   "source": [
    "## Task 2: Variants of the vacuum world\n",
    "\n",
    "Now lets consider a different take on the vacuum world in which the heuristic is not admissible and increases as the number of dirty fields decreases."
   ]
  },
  {
   "cell_type": "code",
   "execution_count": 16,
   "metadata": {},
   "outputs": [
    {
     "name": "stdout",
     "output_type": "stream",
     "text": [
      "6\n"
     ]
    },
    {
     "data": {
      "text/plain": [
       "['Suck', 'Right', 'Suck']"
      ]
     },
     "execution_count": 16,
     "metadata": {},
     "output_type": "execute_result"
    }
   ],
   "source": [
    "class VacuumProblem1(VacuumProblem):\n",
    "    def action_cost(self, state, action):\n",
    "        return 1\n",
    "    \n",
    "    def heuristic(self, state):\n",
    "        return len(state[1]) - sum(state[1])\n",
    "    \n",
    "astar(VacuumProblem1())"
   ]
  },
  {
   "cell_type": "markdown",
   "metadata": {},
   "source": [
    "And another in which heuristic grossly overestimates the cost."
   ]
  },
  {
   "cell_type": "code",
   "execution_count": 17,
   "metadata": {},
   "outputs": [
    {
     "name": "stdout",
     "output_type": "stream",
     "text": [
      "3\n"
     ]
    },
    {
     "data": {
      "text/plain": [
       "['Suck', 'Right', 'Suck']"
      ]
     },
     "execution_count": 17,
     "metadata": {},
     "output_type": "execute_result"
    }
   ],
   "source": [
    "class VacuumProblem2(VacuumProblem):\n",
    "    def action_cost(self, state, action):\n",
    "        return 1\n",
    "    \n",
    "    def heuristic(self, state):\n",
    "        return 10 * sum(state[1])\n",
    "    \n",
    "astar(VacuumProblem2())"
   ]
  },
  {
   "cell_type": "markdown",
   "metadata": {},
   "source": [
    "**Which of the three heuristic functions (`VacuumProblem`, `VacuumProblem1`, `VacuumProblem2`) is the best? Is it the expected answer given the properties of the heuristics? If not, explain why an unorthodox approach works better.**"
   ]
  },
  {
   "cell_type": "markdown",
   "metadata": {},
   "source": [
    "The last one, which overestimates the cost of the work needed to end the task. That is because this heuristic approach promotes 'suck' action whenever it is possible and . Otherwise there is high probability that agent will move and then will suck again. For the trivial case as vacuum problem it is the best tactic. When successful action 'suck' has the same value as 'move' the algorithm behaves more like BFS, so it searches the solution uneficient."
   ]
  },
  {
   "cell_type": "markdown",
   "metadata": {},
   "source": [
    "## Task 3: 8-puzzle problem\n",
    "\n",
    "Recall the 8-puzzle problem from the previous lesson. Reuse your code and implement an extended version assuming that each action costs 1. Propose 3 (at least) admissible heuristics. This time don't change the initial state, your solution should be capable enough to solve this.\n",
    "\n",
    "![](aima-images/fig3_4.png)"
   ]
  },
  {
   "cell_type": "code",
   "execution_count": null,
   "metadata": {},
   "outputs": [],
   "source": []
  },
  {
   "cell_type": "code",
   "execution_count": 18,
   "metadata": {},
   "outputs": [],
   "source": [
    "class PuzzleProblem(Problem):\n",
    "    \n",
    "    goal = ([0,0], [[0,1,2], [3,4,5], [6,7,8]])\n",
    "    \n",
    "    @property \n",
    "    \n",
    "    def initial_state(self):\n",
    "        return ( [1,1], [[7, 2, 4], [5, 0, 6], [8, 3, 1]])\n",
    "\n",
    "        \n",
    "    def available_actions(self, state):\n",
    "        where_zero = state[0]\n",
    "        \n",
    "        available = []\n",
    "        if where_zero[0] != 0:\n",
    "            available.append(\"up\")\n",
    "        if where_zero[0] != 2:\n",
    "            available.append(\"down\")\n",
    "        if where_zero[1] != 0:\n",
    "            available.append(\"left\")\n",
    "        if where_zero[1] != 2:\n",
    "            available.append(\"right\")\n",
    "        return available\n",
    "    \n",
    "    def do_action(self, state, action):\n",
    "        where_zero = state[0]\n",
    "        i = where_zero[0]\n",
    "        j = where_zero[1]\n",
    "        puzzles = state[1]\n",
    "        new_state = [x[:] for x in state[1]]\n",
    "        #print(i,j, action)\n",
    "        if action == 'up':\n",
    "            new_state[i][j], new_state[i-1][j] = new_state[i-1][j], new_state[i][j]\n",
    "            i -= 1\n",
    "        elif action == 'down':\n",
    "            new_state[i][j], new_state[i+1][j] = new_state[i+1][j], new_state[i][j]\n",
    "            i += 1\n",
    "        elif action == 'left':\n",
    "            new_state[i][j], new_state[i][j-1] = new_state[i][j-1], new_state[i][j]\n",
    "            j -=1\n",
    "        elif action == 'right':\n",
    "            new_state[i][j], new_state[i][j+1] = new_state[i][j+1], new_state[i][j]\n",
    "            j += 1\n",
    "        else :\n",
    "            print(\"invalid action\")\n",
    "            return -1\n",
    "        new_statef = ([i,j], new_state)\n",
    "        return new_statef\n",
    "    \n",
    "    def is_goal(self, state) -> bool:\n",
    "        goal = self.goal\n",
    "        if state == goal:\n",
    "            return True\n",
    "        return False\n",
    "        \n",
    "        \n",
    "    def action_cost(self, state, action) -> float:\n",
    "        return 1\n",
    "        \n",
    "    def heuristic(self, state) -> float:\n",
    "        puzzles = state[1]\n",
    "        goal = self.goal[1]\n",
    "        wrong = 0\n",
    "        for i in range(len(puzzles)):\n",
    "            for j in range(len(puzzles[i])):\n",
    "                if puzzles[i][j] != goal[i][j]:\n",
    "                    wrong += 1\n",
    "        return wrong\n",
    "        \n",
    "    def find_puzzle (self, puzzles, puzzle):\n",
    "        for i in range(len(puzzles)):\n",
    "            for j in range(len(puzzles[i])):\n",
    "                if puzzle == puzzles[i][j]:\n",
    "                    return i,j\n",
    "        else : print(\"puzzle not found\")\n",
    "\n",
    "\n"
   ]
  },
  {
   "cell_type": "code",
   "execution_count": null,
   "metadata": {},
   "outputs": [],
   "source": []
  },
  {
   "cell_type": "markdown",
   "metadata": {},
   "source": [
    "this heuristic counts how many puzzles are wrong and it is admissible because we have to move every puzzle that is missplaced at least once."
   ]
  },
  {
   "cell_type": "code",
   "execution_count": 20,
   "metadata": {},
   "outputs": [],
   "source": [
    "class PuzzleProblem1(PuzzleProblem):\n",
    "    def heuristic(self, state) -> float:  \n",
    "        puzzles = state[1]\n",
    "        goal = self.goal[1]\n",
    "        counter = 0\n",
    "        for i in range(len(puzzles)):\n",
    "            for j in range(len(puzzles[i])):\n",
    "                i1, j1 = self.find_puzzle(puzzles, goal[i][j])\n",
    "                counter += abs(i-i1)\n",
    "                counter += abs(j-j1)\n",
    "        #print(counter)\n",
    "        return counter\n",
    "#astar(PuzzleProblem1())"
   ]
  },
  {
   "cell_type": "markdown",
   "metadata": {},
   "source": [
    "this heuristic is always smaller or equal to the first one, so it also has to be admissible. This approach measures euklidean distance between every puzzle and the right place of this puzzle."
   ]
  },
  {
   "cell_type": "code",
   "execution_count": 21,
   "metadata": {},
   "outputs": [],
   "source": [
    "class PuzzleProblem2(PuzzleProblem):\n",
    "    def heuristic(self, state) -> float:\n",
    "        puzzles = state[1]\n",
    "        \n",
    "        goal = self.goal[1]\n",
    "        counter = 0\n",
    "        for i in range(len(puzzles)):\n",
    "            for j in range(len(puzzles[i])):\n",
    "                i1, j1 = self.find_puzzle(puzzles, goal[i][j])\n",
    "                if i != i1 : counter += 1\n",
    "                if j != j1 : counter += 1\n",
    "        \n",
    "        return counter\n",
    "#print(len(astar(PuzzleProblem2())))"
   ]
  },
  {
   "cell_type": "markdown",
   "metadata": {},
   "source": [
    "**Prove that this heuristic is admissible.**"
   ]
  },
  {
   "cell_type": "markdown",
   "metadata": {},
   "source": [
    "we are counting how many puzzles are in the wrong column or row. Heuristic is admissible because if the puzzle is in the wrong position it has wrong row, column or row and column so heuristic will give for missplaced puzzle 1 or 2 points. This approach is always smaller or equal to the first heuristic."
   ]
  },
  {
   "cell_type": "markdown",
   "metadata": {},
   "source": [
    "Run your heuristics on the given problem."
   ]
  },
  {
   "cell_type": "code",
   "execution_count": 22,
   "metadata": {},
   "outputs": [
    {
     "name": "stdout",
     "output_type": "stream",
     "text": [
      "46550\n",
      "4345\n",
      "16399\n",
      "Is plan0==plan1? False\n",
      "Is plan0==plan2? True\n",
      "Is plan1==plan2? False\n"
     ]
    }
   ],
   "source": [
    "plan0 = astar(PuzzleProblem())\n",
    "plan1 = astar(PuzzleProblem1())\n",
    "plan2 = astar(PuzzleProblem2())\n",
    "\n",
    "print(\"Is plan0==plan1?\", plan0 == plan1)\n",
    "print(\"Is plan0==plan2?\", plan0 == plan2)\n",
    "print(\"Is plan1==plan2?\", plan1 == plan2)"
   ]
  },
  {
   "cell_type": "markdown",
   "metadata": {},
   "source": [
    "**Which of the heuristics is the best for this task? Why is that?**"
   ]
  },
  {
   "cell_type": "markdown",
   "metadata": {},
   "source": [
    "The second heuristic is the best, because it doesn't only show whether the puzzle is on the right place, row or column but shows the distance that puzzle has to move. It is also closest to the number of moves that we have to do to solve the problem."
   ]
  },
  {
   "cell_type": "markdown",
   "metadata": {},
   "source": [
    "------------\n",
    "The pictures and the description of 8-puzzle are from \"Artificial Intelligence: A Modern Approach\" 3rd ed."
   ]
  },
  {
   "cell_type": "code",
   "execution_count": null,
   "metadata": {},
   "outputs": [],
   "source": []
  }
 ],
 "metadata": {
  "kernelspec": {
   "display_name": "Python 3",
   "language": "python",
   "name": "python3"
  },
  "language_info": {
   "codemirror_mode": {
    "name": "ipython",
    "version": 3
   },
   "file_extension": ".py",
   "mimetype": "text/x-python",
   "name": "python",
   "nbconvert_exporter": "python",
   "pygments_lexer": "ipython3",
   "version": "3.8.8"
  }
 },
 "nbformat": 4,
 "nbformat_minor": 4
}
